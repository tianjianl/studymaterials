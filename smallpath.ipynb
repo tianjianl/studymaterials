{
  "nbformat": 4,
  "nbformat_minor": 0,
  "metadata": {
    "colab": {
      "name": "smallpath.ipynb",
      "provenance": [],
      "collapsed_sections": [],
      "authorship_tag": "ABX9TyOBO8c1pBk1etiZBsLdU+4f",
      "include_colab_link": true
    },
    "kernelspec": {
      "name": "python3",
      "display_name": "Python 3"
    },
    "language_info": {
      "name": "python"
    }
  },
  "cells": [
    {
      "cell_type": "markdown",
      "metadata": {
        "id": "view-in-github",
        "colab_type": "text"
      },
      "source": [
        "<a href=\"https://colab.research.google.com/github/truthbutcher/studymaterials/blob/main/smallpath.ipynb\" target=\"_parent\"><img src=\"https://colab.research.google.com/assets/colab-badge.svg\" alt=\"Open In Colab\"/></a>"
      ]
    },
    {
      "cell_type": "code",
      "metadata": {
        "id": "6Y6mu27jdaQ3"
      },
      "source": [
        "import numpy as np \n",
        "import pandas as pd \n",
        "import xgboost as xgb\n",
        "from sklearn.model_selection import train_test_split\n",
        "from sklearn.model_selection import KFold\n",
        "from sklearn.metrics import accuracy_score\n",
        "from sklearn.metrics import classification_report"
      ],
      "execution_count": null,
      "outputs": []
    },
    {
      "cell_type": "code",
      "metadata": {
        "colab": {
          "base_uri": "https://localhost:8080/"
        },
        "id": "HXUfxwdifkbQ",
        "outputId": "b479ee71-c66d-4ab0-b5f2-6706e9c31f43"
      },
      "source": [
        "data = pd.read_csv('paths.csv')\n",
        "d = pd.read_csv('fulldata.csv')\n",
        "data = data.iloc[:,:10]\n",
        "data.iloc[:,0] = data.iloc[:,0].astype(str)\n",
        "\n",
        "posdict = {}\n",
        "for index, linkid in enumerate(d.iloc[:,0]):\n",
        "  posdict[int(linkid)] = d.iloc[index,6]\n",
        "\n",
        "for index, linkid in enumerate(data.iloc[:,0]):\n",
        "  data.iloc[index,6] = posdict[int(linkid)]\n",
        "\n",
        "print(data.head(20)) "
      ],
      "execution_count": null,
      "outputs": [
        {
          "output_type": "stream",
          "name": "stdout",
          "text": [
            "        linkid  link轨迹数量        平均速度  ...  link平均位置          宽度  widthmark\n",
            "0   1620600236         3  296.333333  ...       115      无效-已移除        NaN\n",
            "1   1584789428         1  256.000000  ...       100    2.4-2.7M        0.0\n",
            "2   1615902250         4   33.750000  ...       107    2.4-2.7M        0.0\n",
            "3   1632660439      1027   17.136319  ...        62      无效-已移除        NaN\n",
            "4   1634218424       350   16.288571  ...        95      无效-已移除        NaN\n",
            "5   1601397551         2   14.000000  ...        44       >2.7M        0.0\n",
            "6   1632495868         1   14.000000  ...       161       >2.7M        0.0\n",
            "7   1586589883        10   13.800000  ...        25   1.8-2.4 M        1.0\n",
            "8   1582842109        29   12.586207  ...        23    2.4-2.7M        0.0\n",
            "9   1604510220        10   12.400000  ...         9      无效-已移除        NaN\n",
            "10  1621154479         3   11.666667  ...        30    2.4-2.7M        0.0\n",
            "11  1636345982         3   11.666667  ...        32   1.8-2.4 M        1.0\n",
            "12  1653112438         2   11.500000  ...        12    2.4-2.7M        0.0\n",
            "13  1652862114         3   11.000000  ...        33    2.4-2.7M        0.0\n",
            "14  1647156808        10   10.900000  ...        30      无效-已移除        NaN\n",
            "15  1616615228         3   10.333333  ...        21    2.4-2.7M        0.0\n",
            "16  1583367172         6   10.333333  ...        33    2.4-2.7M        0.0\n",
            "17  1634837184         4   10.250000  ...        13       >2.7M        0.0\n",
            "18  1636680027         1   10.000000  ...        19       <1.8M        1.0\n",
            "19  1619652941         8    9.875000  ...        37   1.8-2.4 M        1.0\n",
            "\n",
            "[20 rows x 9 columns]\n"
          ]
        }
      ]
    },
    {
      "cell_type": "code",
      "metadata": {
        "id": "OfmgzzE2gXnj",
        "colab": {
          "base_uri": "https://localhost:8080/",
          "height": 204
        },
        "outputId": "9ee86201-ee7a-4eeb-ef7a-59d2f91dc6da"
      },
      "source": [
        "data_full = data.copy()\n",
        "data_full = data_full.dropna(axis = 0)\n",
        "X_data = data_full.drop(['linkid','宽度','widthmark'], axis = 1)\n",
        "X_data['link轨迹数量'] = pd.to_numeric(X_data['link轨迹数量'])\n",
        "X_data['平均速度'] = pd.to_numeric(X_data['平均速度'])\n",
        "X_data['link平均位置'] = pd.to_numeric(X_data['link平均位置'])\n",
        "#X_data['4'] = pd.to_numeric(X_data['<4m/s 的轨迹'])\n",
        "#X_data['4-8'] = pd.to_numeric(X_data['4 - 8m/s 的轨迹'])\n",
        "#X_data['8'] = pd.to_numeric(X_data['>8m/s 的轨迹'])\n",
        "X_data = X_data.drop(['>8m/s 的轨迹','<4m/s 的轨迹','4 - 8m/s 的轨迹'],axis = 1)\n",
        "y = data_full.widthmark\n",
        "X_data.head()"
      ],
      "execution_count": null,
      "outputs": [
        {
          "output_type": "execute_result",
          "data": {
            "text/html": [
              "<div>\n",
              "<style scoped>\n",
              "    .dataframe tbody tr th:only-of-type {\n",
              "        vertical-align: middle;\n",
              "    }\n",
              "\n",
              "    .dataframe tbody tr th {\n",
              "        vertical-align: top;\n",
              "    }\n",
              "\n",
              "    .dataframe thead th {\n",
              "        text-align: right;\n",
              "    }\n",
              "</style>\n",
              "<table border=\"1\" class=\"dataframe\">\n",
              "  <thead>\n",
              "    <tr style=\"text-align: right;\">\n",
              "      <th></th>\n",
              "      <th>link轨迹数量</th>\n",
              "      <th>平均速度</th>\n",
              "      <th>link平均位置</th>\n",
              "    </tr>\n",
              "  </thead>\n",
              "  <tbody>\n",
              "    <tr>\n",
              "      <th>1</th>\n",
              "      <td>1</td>\n",
              "      <td>256.00</td>\n",
              "      <td>100</td>\n",
              "    </tr>\n",
              "    <tr>\n",
              "      <th>2</th>\n",
              "      <td>4</td>\n",
              "      <td>33.75</td>\n",
              "      <td>107</td>\n",
              "    </tr>\n",
              "    <tr>\n",
              "      <th>5</th>\n",
              "      <td>2</td>\n",
              "      <td>14.00</td>\n",
              "      <td>44</td>\n",
              "    </tr>\n",
              "    <tr>\n",
              "      <th>6</th>\n",
              "      <td>1</td>\n",
              "      <td>14.00</td>\n",
              "      <td>161</td>\n",
              "    </tr>\n",
              "    <tr>\n",
              "      <th>7</th>\n",
              "      <td>10</td>\n",
              "      <td>13.80</td>\n",
              "      <td>25</td>\n",
              "    </tr>\n",
              "  </tbody>\n",
              "</table>\n",
              "</div>"
            ],
            "text/plain": [
              "   link轨迹数量    平均速度  link平均位置\n",
              "1         1  256.00       100\n",
              "2         4   33.75       107\n",
              "5         2   14.00        44\n",
              "6         1   14.00       161\n",
              "7        10   13.80        25"
            ]
          },
          "metadata": {},
          "execution_count": 6
        }
      ]
    },
    {
      "cell_type": "code",
      "metadata": {
        "id": "SBUDi04eifyh",
        "colab": {
          "base_uri": "https://localhost:8080/",
          "height": 419
        },
        "outputId": "f6ba2156-df5d-4b0b-9627-a3725cab47cc"
      },
      "source": [
        "seed = 7\n",
        "test_size = 0.3\n",
        "X_train, X_test, y_train, y_test = train_test_split(X_data, y, test_size=test_size, random_state=seed)\n",
        "kf = KFold(n_splits=5)\n",
        "X_train"
      ],
      "execution_count": null,
      "outputs": [
        {
          "output_type": "execute_result",
          "data": {
            "text/html": [
              "<div>\n",
              "<style scoped>\n",
              "    .dataframe tbody tr th:only-of-type {\n",
              "        vertical-align: middle;\n",
              "    }\n",
              "\n",
              "    .dataframe tbody tr th {\n",
              "        vertical-align: top;\n",
              "    }\n",
              "\n",
              "    .dataframe thead th {\n",
              "        text-align: right;\n",
              "    }\n",
              "</style>\n",
              "<table border=\"1\" class=\"dataframe\">\n",
              "  <thead>\n",
              "    <tr style=\"text-align: right;\">\n",
              "      <th></th>\n",
              "      <th>link轨迹数量</th>\n",
              "      <th>平均速度</th>\n",
              "      <th>link平均位置</th>\n",
              "    </tr>\n",
              "  </thead>\n",
              "  <tbody>\n",
              "    <tr>\n",
              "      <th>114</th>\n",
              "      <td>11</td>\n",
              "      <td>3.636364</td>\n",
              "      <td>7</td>\n",
              "    </tr>\n",
              "    <tr>\n",
              "      <th>147</th>\n",
              "      <td>3</td>\n",
              "      <td>1.333333</td>\n",
              "      <td>75</td>\n",
              "    </tr>\n",
              "    <tr>\n",
              "      <th>20</th>\n",
              "      <td>2</td>\n",
              "      <td>9.500000</td>\n",
              "      <td>13</td>\n",
              "    </tr>\n",
              "    <tr>\n",
              "      <th>126</th>\n",
              "      <td>2</td>\n",
              "      <td>3.000000</td>\n",
              "      <td>3</td>\n",
              "    </tr>\n",
              "    <tr>\n",
              "      <th>70</th>\n",
              "      <td>11</td>\n",
              "      <td>5.454545</td>\n",
              "      <td>34</td>\n",
              "    </tr>\n",
              "    <tr>\n",
              "      <th>...</th>\n",
              "      <td>...</td>\n",
              "      <td>...</td>\n",
              "      <td>...</td>\n",
              "    </tr>\n",
              "    <tr>\n",
              "      <th>227</th>\n",
              "      <td>2</td>\n",
              "      <td>4.000000</td>\n",
              "      <td>3</td>\n",
              "    </tr>\n",
              "    <tr>\n",
              "      <th>79</th>\n",
              "      <td>1</td>\n",
              "      <td>5.000000</td>\n",
              "      <td>1</td>\n",
              "    </tr>\n",
              "    <tr>\n",
              "      <th>32</th>\n",
              "      <td>19</td>\n",
              "      <td>8.052632</td>\n",
              "      <td>12</td>\n",
              "    </tr>\n",
              "    <tr>\n",
              "      <th>212</th>\n",
              "      <td>1</td>\n",
              "      <td>2.000000</td>\n",
              "      <td>10</td>\n",
              "    </tr>\n",
              "    <tr>\n",
              "      <th>191</th>\n",
              "      <td>1</td>\n",
              "      <td>7.000000</td>\n",
              "      <td>5</td>\n",
              "    </tr>\n",
              "  </tbody>\n",
              "</table>\n",
              "<p>165 rows × 3 columns</p>\n",
              "</div>"
            ],
            "text/plain": [
              "     link轨迹数量      平均速度  link平均位置\n",
              "114        11  3.636364         7\n",
              "147         3  1.333333        75\n",
              "20          2  9.500000        13\n",
              "126         2  3.000000         3\n",
              "70         11  5.454545        34\n",
              "..        ...       ...       ...\n",
              "227         2  4.000000         3\n",
              "79          1  5.000000         1\n",
              "32         19  8.052632        12\n",
              "212         1  2.000000        10\n",
              "191         1  7.000000         5\n",
              "\n",
              "[165 rows x 3 columns]"
            ]
          },
          "metadata": {},
          "execution_count": 7
        }
      ]
    },
    {
      "cell_type": "code",
      "metadata": {
        "id": "vJBfA7LNjGEw"
      },
      "source": [
        "model1 = xgb.XGBClassifier()\n",
        "model2 = xgb.XGBClassifier(\n",
        " learning_rate =0.01,\n",
        " n_estimators=100,\n",
        " max_depth=4,\n",
        " min_child_weight=1,\n",
        " gamma=0,\n",
        " subsample=0.8,\n",
        " colsample_bytree=0.8,  \n",
        " objective= 'binary:logistic',\n",
        " nthread=4,\n",
        " scale_pos_weight=1,\n",
        " seed=27)\n",
        "train_model1 = model1.fit(X_train, y_train)\n",
        "train_model2 = model2.fit(X_train, y_train)"
      ],
      "execution_count": null,
      "outputs": []
    },
    {
      "cell_type": "code",
      "metadata": {
        "id": "Bhf63fsasKxL",
        "colab": {
          "base_uri": "https://localhost:8080/"
        },
        "outputId": "b86ca160-a852-4947-b84e-5f42c0023821"
      },
      "source": [
        "pred1 = train_model1.predict(X_test)\n",
        "pred2 = train_model2.predict(X_test)\n",
        "\n",
        "print(classification_report(y_test, pred1))\n",
        "print(classification_report(y_test, pred2))\n",
        "\n",
        "print(\"Accuracy for model 1: %.2f\" % (accuracy_score(y_test, pred1) * 100))\n",
        "print(\"Accuracy for model 2: %.2f\" % (accuracy_score(y_test, pred2) * 100))\n"
      ],
      "execution_count": null,
      "outputs": [
        {
          "output_type": "stream",
          "name": "stdout",
          "text": [
            "              precision    recall  f1-score   support\n",
            "\n",
            "         0.0       0.60      0.76      0.67        41\n",
            "         1.0       0.47      0.30      0.37        30\n",
            "\n",
            "    accuracy                           0.56        71\n",
            "   macro avg       0.53      0.53      0.52        71\n",
            "weighted avg       0.54      0.56      0.54        71\n",
            "\n",
            "              precision    recall  f1-score   support\n",
            "\n",
            "         0.0       0.60      0.78      0.68        41\n",
            "         1.0       0.50      0.30      0.37        30\n",
            "\n",
            "    accuracy                           0.58        71\n",
            "   macro avg       0.55      0.54      0.53        71\n",
            "weighted avg       0.56      0.58      0.55        71\n",
            "\n",
            "Accuracy for model 1: 56.34\n",
            "Accuracy for model 2: 57.75\n"
          ]
        }
      ]
    },
    {
      "cell_type": "code",
      "metadata": {
        "id": "iE8Ukir6S5Kv",
        "colab": {
          "base_uri": "https://localhost:8080/",
          "height": 204
        },
        "outputId": "bfe5ac70-5929-4efb-b980-57f115a4e9c5"
      },
      "source": [
        "output = pd.read_csv('路障数据.csv')\n",
        "output.head()"
      ],
      "execution_count": null,
      "outputs": [
        {
          "output_type": "execute_result",
          "data": {
            "text/html": [
              "<div>\n",
              "<style scoped>\n",
              "    .dataframe tbody tr th:only-of-type {\n",
              "        vertical-align: middle;\n",
              "    }\n",
              "\n",
              "    .dataframe tbody tr th {\n",
              "        vertical-align: top;\n",
              "    }\n",
              "\n",
              "    .dataframe thead th {\n",
              "        text-align: right;\n",
              "    }\n",
              "</style>\n",
              "<table border=\"1\" class=\"dataframe\">\n",
              "  <thead>\n",
              "    <tr style=\"text-align: right;\">\n",
              "      <th></th>\n",
              "      <th>linkid</th>\n",
              "      <th>link轨迹数量</th>\n",
              "      <th>平均速度</th>\n",
              "      <th>link平均位置</th>\n",
              "      <th>4</th>\n",
              "      <th>4-8</th>\n",
              "      <th>8</th>\n",
              "      <th>widthmark</th>\n",
              "    </tr>\n",
              "  </thead>\n",
              "  <tbody>\n",
              "    <tr>\n",
              "      <th>0</th>\n",
              "      <td>1526653217</td>\n",
              "      <td>34</td>\n",
              "      <td>6.029412</td>\n",
              "      <td>8</td>\n",
              "      <td>4</td>\n",
              "      <td>21</td>\n",
              "      <td>9</td>\n",
              "      <td>NaN</td>\n",
              "    </tr>\n",
              "    <tr>\n",
              "      <th>1</th>\n",
              "      <td>1582531367</td>\n",
              "      <td>31</td>\n",
              "      <td>5.806452</td>\n",
              "      <td>8</td>\n",
              "      <td>4</td>\n",
              "      <td>19</td>\n",
              "      <td>8</td>\n",
              "      <td>NaN</td>\n",
              "    </tr>\n",
              "    <tr>\n",
              "      <th>2</th>\n",
              "      <td>1529054785</td>\n",
              "      <td>61</td>\n",
              "      <td>8.459016</td>\n",
              "      <td>55</td>\n",
              "      <td>2</td>\n",
              "      <td>31</td>\n",
              "      <td>28</td>\n",
              "      <td>NaN</td>\n",
              "    </tr>\n",
              "    <tr>\n",
              "      <th>3</th>\n",
              "      <td>1528904608</td>\n",
              "      <td>61</td>\n",
              "      <td>4.852459</td>\n",
              "      <td>53</td>\n",
              "      <td>14</td>\n",
              "      <td>44</td>\n",
              "      <td>3</td>\n",
              "      <td>NaN</td>\n",
              "    </tr>\n",
              "    <tr>\n",
              "      <th>4</th>\n",
              "      <td>1530715556</td>\n",
              "      <td>36</td>\n",
              "      <td>6.472222</td>\n",
              "      <td>42</td>\n",
              "      <td>1</td>\n",
              "      <td>23</td>\n",
              "      <td>12</td>\n",
              "      <td>NaN</td>\n",
              "    </tr>\n",
              "  </tbody>\n",
              "</table>\n",
              "</div>"
            ],
            "text/plain": [
              "       linkid  link轨迹数量      平均速度  link平均位置   4  4-8   8  widthmark\n",
              "0  1526653217        34  6.029412         8   4   21   9        NaN\n",
              "1  1582531367        31  5.806452         8   4   19   8        NaN\n",
              "2  1529054785        61  8.459016        55   2   31  28        NaN\n",
              "3  1528904608        61  4.852459        53  14   44   3        NaN\n",
              "4  1530715556        36  6.472222        42   1   23  12        NaN"
            ]
          },
          "metadata": {},
          "execution_count": 121
        }
      ]
    },
    {
      "cell_type": "code",
      "metadata": {
        "colab": {
          "base_uri": "https://localhost:8080/",
          "height": 204
        },
        "id": "a2ny8U54eKbI",
        "outputId": "cc90451a-9175-4c07-a2c3-adc8ba31e10b"
      },
      "source": [
        "output_data = output.drop(['linkid','widthmark'], axis = 1)\n",
        "output_data['link轨迹数量'] = pd.to_numeric(output_data['link轨迹数量'])\n",
        "output_data['平均速度'] = pd.to_numeric(output_data['平均速度'])\n",
        "output_data['link平均位置'] = pd.to_numeric(output_data['link平均位置'])\n",
        "output_data['4'] = pd.to_numeric(output_data['4'])\n",
        "output_data['4-8'] = pd.to_numeric(output_data['4-8'])\n",
        "output_data['8'] = pd.to_numeric(output_data['8'])\n",
        "\n",
        "\n",
        "output_data.head()\n",
        "\n"
      ],
      "execution_count": null,
      "outputs": [
        {
          "output_type": "execute_result",
          "data": {
            "text/html": [
              "<div>\n",
              "<style scoped>\n",
              "    .dataframe tbody tr th:only-of-type {\n",
              "        vertical-align: middle;\n",
              "    }\n",
              "\n",
              "    .dataframe tbody tr th {\n",
              "        vertical-align: top;\n",
              "    }\n",
              "\n",
              "    .dataframe thead th {\n",
              "        text-align: right;\n",
              "    }\n",
              "</style>\n",
              "<table border=\"1\" class=\"dataframe\">\n",
              "  <thead>\n",
              "    <tr style=\"text-align: right;\">\n",
              "      <th></th>\n",
              "      <th>link轨迹数量</th>\n",
              "      <th>平均速度</th>\n",
              "      <th>link平均位置</th>\n",
              "      <th>4</th>\n",
              "      <th>4-8</th>\n",
              "      <th>8</th>\n",
              "    </tr>\n",
              "  </thead>\n",
              "  <tbody>\n",
              "    <tr>\n",
              "      <th>0</th>\n",
              "      <td>34</td>\n",
              "      <td>6.029412</td>\n",
              "      <td>8</td>\n",
              "      <td>4</td>\n",
              "      <td>21</td>\n",
              "      <td>9</td>\n",
              "    </tr>\n",
              "    <tr>\n",
              "      <th>1</th>\n",
              "      <td>31</td>\n",
              "      <td>5.806452</td>\n",
              "      <td>8</td>\n",
              "      <td>4</td>\n",
              "      <td>19</td>\n",
              "      <td>8</td>\n",
              "    </tr>\n",
              "    <tr>\n",
              "      <th>2</th>\n",
              "      <td>61</td>\n",
              "      <td>8.459016</td>\n",
              "      <td>55</td>\n",
              "      <td>2</td>\n",
              "      <td>31</td>\n",
              "      <td>28</td>\n",
              "    </tr>\n",
              "    <tr>\n",
              "      <th>3</th>\n",
              "      <td>61</td>\n",
              "      <td>4.852459</td>\n",
              "      <td>53</td>\n",
              "      <td>14</td>\n",
              "      <td>44</td>\n",
              "      <td>3</td>\n",
              "    </tr>\n",
              "    <tr>\n",
              "      <th>4</th>\n",
              "      <td>36</td>\n",
              "      <td>6.472222</td>\n",
              "      <td>42</td>\n",
              "      <td>1</td>\n",
              "      <td>23</td>\n",
              "      <td>12</td>\n",
              "    </tr>\n",
              "  </tbody>\n",
              "</table>\n",
              "</div>"
            ],
            "text/plain": [
              "   link轨迹数量      平均速度  link平均位置   4  4-8   8\n",
              "0        34  6.029412         8   4   21   9\n",
              "1        31  5.806452         8   4   19   8\n",
              "2        61  8.459016        55   2   31  28\n",
              "3        61  4.852459        53  14   44   3\n",
              "4        36  6.472222        42   1   23  12"
            ]
          },
          "metadata": {},
          "execution_count": 122
        }
      ]
    },
    {
      "cell_type": "code",
      "metadata": {
        "colab": {
          "base_uri": "https://localhost:8080/",
          "height": 204
        },
        "id": "EsDDpLqMelUu",
        "outputId": "5ff36750-5624-4c6b-ab23-03cad80af1f0"
      },
      "source": [
        "output_pred = train_model2.predict(output_data)\n",
        "output['widthmark'] = pd.to_numeric(output_pred)\n"
      ],
      "execution_count": null,
      "outputs": [
        {
          "output_type": "execute_result",
          "data": {
            "text/html": [
              "<div>\n",
              "<style scoped>\n",
              "    .dataframe tbody tr th:only-of-type {\n",
              "        vertical-align: middle;\n",
              "    }\n",
              "\n",
              "    .dataframe tbody tr th {\n",
              "        vertical-align: top;\n",
              "    }\n",
              "\n",
              "    .dataframe thead th {\n",
              "        text-align: right;\n",
              "    }\n",
              "</style>\n",
              "<table border=\"1\" class=\"dataframe\">\n",
              "  <thead>\n",
              "    <tr style=\"text-align: right;\">\n",
              "      <th></th>\n",
              "      <th>linkid</th>\n",
              "      <th>link轨迹数量</th>\n",
              "      <th>平均速度</th>\n",
              "      <th>link平均位置</th>\n",
              "      <th>4</th>\n",
              "      <th>4-8</th>\n",
              "      <th>8</th>\n",
              "      <th>widthmark</th>\n",
              "    </tr>\n",
              "  </thead>\n",
              "  <tbody>\n",
              "    <tr>\n",
              "      <th>0</th>\n",
              "      <td>1526653217</td>\n",
              "      <td>34</td>\n",
              "      <td>6.029412</td>\n",
              "      <td>8</td>\n",
              "      <td>4</td>\n",
              "      <td>21</td>\n",
              "      <td>9</td>\n",
              "      <td>1.0</td>\n",
              "    </tr>\n",
              "    <tr>\n",
              "      <th>1</th>\n",
              "      <td>1582531367</td>\n",
              "      <td>31</td>\n",
              "      <td>5.806452</td>\n",
              "      <td>8</td>\n",
              "      <td>4</td>\n",
              "      <td>19</td>\n",
              "      <td>8</td>\n",
              "      <td>1.0</td>\n",
              "    </tr>\n",
              "    <tr>\n",
              "      <th>2</th>\n",
              "      <td>1529054785</td>\n",
              "      <td>61</td>\n",
              "      <td>8.459016</td>\n",
              "      <td>55</td>\n",
              "      <td>2</td>\n",
              "      <td>31</td>\n",
              "      <td>28</td>\n",
              "      <td>0.0</td>\n",
              "    </tr>\n",
              "    <tr>\n",
              "      <th>3</th>\n",
              "      <td>1528904608</td>\n",
              "      <td>61</td>\n",
              "      <td>4.852459</td>\n",
              "      <td>53</td>\n",
              "      <td>14</td>\n",
              "      <td>44</td>\n",
              "      <td>3</td>\n",
              "      <td>0.0</td>\n",
              "    </tr>\n",
              "    <tr>\n",
              "      <th>4</th>\n",
              "      <td>1530715556</td>\n",
              "      <td>36</td>\n",
              "      <td>6.472222</td>\n",
              "      <td>42</td>\n",
              "      <td>1</td>\n",
              "      <td>23</td>\n",
              "      <td>12</td>\n",
              "      <td>0.0</td>\n",
              "    </tr>\n",
              "  </tbody>\n",
              "</table>\n",
              "</div>"
            ],
            "text/plain": [
              "       linkid  link轨迹数量      平均速度  link平均位置   4  4-8   8  widthmark\n",
              "0  1526653217        34  6.029412         8   4   21   9        1.0\n",
              "1  1582531367        31  5.806452         8   4   19   8        1.0\n",
              "2  1529054785        61  8.459016        55   2   31  28        0.0\n",
              "3  1528904608        61  4.852459        53  14   44   3        0.0\n",
              "4  1530715556        36  6.472222        42   1   23  12        0.0"
            ]
          },
          "metadata": {},
          "execution_count": 125
        }
      ]
    },
    {
      "cell_type": "code",
      "metadata": {
        "id": "x_KD5hILfzNT"
      },
      "source": [
        "output.to_excel('路障数据1.xlsx', sheet_name = '路障数据')"
      ],
      "execution_count": null,
      "outputs": []
    },
    {
      "cell_type": "code",
      "metadata": {
        "id": "6ZMI3M3biCE9"
      },
      "source": [
        ""
      ],
      "execution_count": null,
      "outputs": []
    }
  ]
}