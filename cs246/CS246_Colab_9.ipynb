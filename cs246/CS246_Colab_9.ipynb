{
  "nbformat": 4,
  "nbformat_minor": 0,
  "metadata": {
    "colab": {
      "name": "CS246 - Colab 9.ipynb",
      "provenance": [],
      "collapsed_sections": [],
      "toc_visible": true
    },
    "kernelspec": {
      "name": "python3",
      "display_name": "Python 3"
    }
  },
  "cells": [
    {
      "cell_type": "markdown",
      "metadata": {
        "id": "kPt5q27L5557"
      },
      "source": [
        "# CS246 - Colab 9\n",
        "## Studying COVID-19"
      ]
    },
    {
      "cell_type": "markdown",
      "metadata": {
        "id": "p0-YhEpP_Ds-"
      },
      "source": [
        "### Setup"
      ]
    },
    {
      "cell_type": "markdown",
      "metadata": {
        "id": "Zsj5WYpR9QId"
      },
      "source": [
        "Let's set up Spark on your Colab environment.  Run the cell below!"
      ]
    },
    {
      "cell_type": "code",
      "metadata": {
        "id": "k-qHai2252mI",
        "outputId": "b2fbc6f6-2ed3-41b1-ebc5-10eae1d7ef12",
        "colab": {
          "base_uri": "https://localhost:8080/"
        }
      },
      "source": [
        "!pip install pyspark\n",
        "!pip install -U -q PyDrive\n",
        "!apt install openjdk-8-jdk-headless -qq\n",
        "import os\n",
        "os.environ[\"JAVA_HOME\"] = \"/usr/lib/jvm/java-8-openjdk-amd64\""
      ],
      "execution_count": 1,
      "outputs": [
        {
          "output_type": "stream",
          "name": "stdout",
          "text": [
            "Requirement already satisfied: pyspark in /usr/local/lib/python3.7/dist-packages (3.2.1)\n",
            "Requirement already satisfied: py4j==0.10.9.3 in /usr/local/lib/python3.7/dist-packages (from pyspark) (0.10.9.3)\n",
            "openjdk-8-jdk-headless is already the newest version (8u312-b07-0ubuntu1~18.04).\n",
            "0 upgraded, 0 newly installed, 0 to remove and 39 not upgraded.\n"
          ]
        }
      ]
    },
    {
      "cell_type": "markdown",
      "metadata": {
        "id": "PUUjUvXe3Sjk"
      },
      "source": [
        "Now we authenticate a Google Drive client to download the files we will be processing in our Spark job.\n",
        "\n",
        "**Make sure to follow the interactive instructions.**"
      ]
    },
    {
      "cell_type": "markdown",
      "source": [
        "# 新段落"
      ],
      "metadata": {
        "id": "iK_9ZpE5NsfD"
      }
    },
    {
      "cell_type": "code",
      "metadata": {
        "id": "lRElWs_x2mGh"
      },
      "source": [
        "from pydrive.auth import GoogleAuth\n",
        "from pydrive.drive import GoogleDrive\n",
        "from google.colab import auth\n",
        "from oauth2client.client import GoogleCredentials\n",
        "\n",
        "# Authenticate and create the PyDrive client\n",
        "auth.authenticate_user()\n",
        "gauth = GoogleAuth()\n",
        "gauth.credentials = GoogleCredentials.get_application_default()\n",
        "drive = GoogleDrive(gauth)"
      ],
      "execution_count": 2,
      "outputs": []
    },
    {
      "cell_type": "code",
      "metadata": {
        "id": "QHsFTGUy2n1c"
      },
      "source": [
        "id='1YT7ttUAafCjbVdm6obeHp1TWAK0rEtoR'\n",
        "downloaded = drive.CreateFile({'id': id})\n",
        "downloaded.GetContentFile('time_series_covid19_confirmed_global.csv')\n",
        "\n",
        "id='1YxEA5UQ2EFJ_9oLssM__Gs1ncVNufGNA'\n",
        "downloaded = drive.CreateFile({'id': id})\n",
        "downloaded.GetContentFile('time_series_covid19_deaths_global.csv')\n",
        "\n",
        "id='1CNxszuZTeIw-5cF5yrzKMZdb1qV0hSoy'\n",
        "downloaded = drive.CreateFile({'id': id})\n",
        "downloaded.GetContentFile('time_series_covid19_recovered_global.csv')"
      ],
      "execution_count": 3,
      "outputs": []
    },
    {
      "cell_type": "markdown",
      "metadata": {
        "id": "qwtlO4_m_LbQ"
      },
      "source": [
        "If you executed the cells above, you should be able to see the dataset we will use for this Colab under the \"Files\" tab on the left panel.\n",
        "\n",
        "Next, we import some of the common libraries needed for our task."
      ]
    },
    {
      "cell_type": "code",
      "metadata": {
        "id": "twk-K-jilWK7"
      },
      "source": [
        "import pandas as pd\n",
        "import numpy as np\n",
        "import matplotlib.pyplot as plt\n",
        "%matplotlib inline\n",
        "\n",
        "import pyspark\n",
        "from pyspark.sql import *\n",
        "from pyspark.sql.types import *\n",
        "from pyspark.sql.functions import *\n",
        "from pyspark import SparkContext, SparkConf"
      ],
      "execution_count": 4,
      "outputs": []
    },
    {
      "cell_type": "markdown",
      "metadata": {
        "id": "BtrJlMBt1Ela"
      },
      "source": [
        "Let's initialize the Spark context."
      ]
    },
    {
      "cell_type": "code",
      "metadata": {
        "id": "Vm3sAVeK1EDZ"
      },
      "source": [
        "# create the session\n",
        "conf = SparkConf().set(\"spark.ui.port\", \"4050\")\n",
        "\n",
        "# create the context\n",
        "sc = pyspark.SparkContext(conf=conf)\n",
        "spark = SparkSession.builder.getOrCreate()"
      ],
      "execution_count": 5,
      "outputs": []
    },
    {
      "cell_type": "markdown",
      "metadata": {
        "id": "kAYRX2PMm0L6"
      },
      "source": [
        "### Data Loading"
      ]
    },
    {
      "cell_type": "markdown",
      "metadata": {
        "id": "7hXdMR6wnEIM"
      },
      "source": [
        "In this Colab, we will be analyzing the time series data of the Coronavirus COVID-19 Global Cases, collected by Johns Hopkins CSSE.\n",
        "\n",
        "Here you can check a realtime dashboard based on this dataset: [https://www.arcgis.com/apps/opsdashboard/index.html?fbclid=IwAR2hQKsEZ3D38wVtXGryUhP9CG0Z6MYbUM_boPEaV8FBe71wUvDPc65ZG78#/bda7594740fd40299423467b48e9ecf6](https://www.arcgis.com/apps/opsdashboard/index.html?fbclid=IwAR2hQKsEZ3D38wVtXGryUhP9CG0Z6MYbUM_boPEaV8FBe71wUvDPc65ZG78#/bda7594740fd40299423467b48e9ecf6)\n",
        "\n",
        "---\n",
        "\n",
        "\n",
        "\n",
        "*   ```confirmed```: dataframe containing the cumulative number of confirmed COVID-19 cases, divided by geographical area\n",
        "*   ```deaths```: dataframe containing the cumulative number of deaths due to COVID-19, divided by geographical area\n",
        "*   ```recovered```: dataframe containing the cumulative number of recoevered patients, divided by geographical area\n",
        "\n",
        "The data sets contain data entries for each day, representing the cumulative totals as of that day.\n",
        "\n",
        "\n",
        "\n",
        "\n",
        "\n"
      ]
    },
    {
      "cell_type": "code",
      "metadata": {
        "id": "EUSeIQlNqv6J"
      },
      "source": [
        "confirmed = spark.read.csv('time_series_covid19_confirmed_global.csv', header=True)\n",
        "deaths = spark.read.csv('time_series_covid19_deaths_global.csv', header=True)\n",
        "recovered = spark.read.csv('time_series_covid19_recovered_global.csv', header=True)"
      ],
      "execution_count": 6,
      "outputs": []
    },
    {
      "cell_type": "code",
      "metadata": {
        "id": "NvyFsE-fLXpg",
        "outputId": "77b9b98f-4ac3-4268-8c35-9b8ee9551923",
        "colab": {
          "base_uri": "https://localhost:8080/"
        }
      },
      "source": [
        "confirmed.printSchema()"
      ],
      "execution_count": 7,
      "outputs": [
        {
          "output_type": "stream",
          "name": "stdout",
          "text": [
            "root\n",
            " |-- Province/State: string (nullable = true)\n",
            " |-- Country/Region: string (nullable = true)\n",
            " |-- Lat: string (nullable = true)\n",
            " |-- Long: string (nullable = true)\n",
            " |-- 1/22/20: string (nullable = true)\n",
            " |-- 1/23/20: string (nullable = true)\n",
            " |-- 1/24/20: string (nullable = true)\n",
            " |-- 1/25/20: string (nullable = true)\n",
            " |-- 1/26/20: string (nullable = true)\n",
            " |-- 1/27/20: string (nullable = true)\n",
            " |-- 1/28/20: string (nullable = true)\n",
            " |-- 1/29/20: string (nullable = true)\n",
            " |-- 1/30/20: string (nullable = true)\n",
            " |-- 1/31/20: string (nullable = true)\n",
            " |-- 2/1/20: string (nullable = true)\n",
            " |-- 2/2/20: string (nullable = true)\n",
            " |-- 2/3/20: string (nullable = true)\n",
            " |-- 2/4/20: string (nullable = true)\n",
            " |-- 2/5/20: string (nullable = true)\n",
            " |-- 2/6/20: string (nullable = true)\n",
            " |-- 2/7/20: string (nullable = true)\n",
            " |-- 2/8/20: string (nullable = true)\n",
            " |-- 2/9/20: string (nullable = true)\n",
            " |-- 2/10/20: string (nullable = true)\n",
            " |-- 2/11/20: string (nullable = true)\n",
            " |-- 2/12/20: string (nullable = true)\n",
            " |-- 2/13/20: string (nullable = true)\n",
            " |-- 2/14/20: string (nullable = true)\n",
            " |-- 2/15/20: string (nullable = true)\n",
            " |-- 2/16/20: string (nullable = true)\n",
            " |-- 2/17/20: string (nullable = true)\n",
            " |-- 2/18/20: string (nullable = true)\n",
            " |-- 2/19/20: string (nullable = true)\n",
            " |-- 2/20/20: string (nullable = true)\n",
            " |-- 2/21/20: string (nullable = true)\n",
            " |-- 2/22/20: string (nullable = true)\n",
            " |-- 2/23/20: string (nullable = true)\n",
            " |-- 2/24/20: string (nullable = true)\n",
            " |-- 2/25/20: string (nullable = true)\n",
            " |-- 2/26/20: string (nullable = true)\n",
            " |-- 2/27/20: string (nullable = true)\n",
            " |-- 2/28/20: string (nullable = true)\n",
            " |-- 2/29/20: string (nullable = true)\n",
            " |-- 3/1/20: string (nullable = true)\n",
            " |-- 3/2/20: string (nullable = true)\n",
            " |-- 3/3/20: string (nullable = true)\n",
            " |-- 3/4/20: string (nullable = true)\n",
            " |-- 3/5/20: string (nullable = true)\n",
            " |-- 3/6/20: string (nullable = true)\n",
            " |-- 3/7/20: string (nullable = true)\n",
            " |-- 3/8/20: string (nullable = true)\n",
            " |-- 3/9/20: string (nullable = true)\n",
            " |-- 3/10/20: string (nullable = true)\n",
            " |-- 3/11/20: string (nullable = true)\n",
            " |-- 3/12/20: string (nullable = true)\n",
            " |-- 3/13/20: string (nullable = true)\n",
            " |-- 3/14/20: string (nullable = true)\n",
            " |-- 3/15/20: string (nullable = true)\n",
            " |-- 3/16/20: string (nullable = true)\n",
            " |-- 3/17/20: string (nullable = true)\n",
            " |-- 3/18/20: string (nullable = true)\n",
            " |-- 3/19/20: string (nullable = true)\n",
            " |-- 3/20/20: string (nullable = true)\n",
            " |-- 3/21/20: string (nullable = true)\n",
            " |-- 3/22/20: string (nullable = true)\n",
            " |-- 3/23/20: string (nullable = true)\n",
            " |-- 3/24/20: string (nullable = true)\n",
            " |-- 3/25/20: string (nullable = true)\n",
            " |-- 3/26/20: string (nullable = true)\n",
            " |-- 3/27/20: string (nullable = true)\n",
            " |-- 3/28/20: string (nullable = true)\n",
            " |-- 3/29/20: string (nullable = true)\n",
            " |-- 3/30/20: string (nullable = true)\n",
            " |-- 3/31/20: string (nullable = true)\n",
            " |-- 4/1/20: string (nullable = true)\n",
            " |-- 4/2/20: string (nullable = true)\n",
            " |-- 4/3/20: string (nullable = true)\n",
            " |-- 4/4/20: string (nullable = true)\n",
            " |-- 4/5/20: string (nullable = true)\n",
            " |-- 4/6/20: string (nullable = true)\n",
            " |-- 4/7/20: string (nullable = true)\n",
            " |-- 4/8/20: string (nullable = true)\n",
            " |-- 4/9/20: string (nullable = true)\n",
            " |-- 4/10/20: string (nullable = true)\n",
            " |-- 4/11/20: string (nullable = true)\n",
            " |-- 4/12/20: string (nullable = true)\n",
            " |-- 4/13/20: string (nullable = true)\n",
            " |-- 4/14/20: string (nullable = true)\n",
            " |-- 4/15/20: string (nullable = true)\n",
            " |-- 4/16/20: string (nullable = true)\n",
            " |-- 4/17/20: string (nullable = true)\n",
            " |-- 4/18/20: string (nullable = true)\n",
            " |-- 4/19/20: string (nullable = true)\n",
            " |-- 4/20/20: string (nullable = true)\n",
            " |-- 4/21/20: string (nullable = true)\n",
            " |-- 4/22/20: string (nullable = true)\n",
            " |-- 4/23/20: string (nullable = true)\n",
            " |-- 4/24/20: string (nullable = true)\n",
            " |-- 4/25/20: string (nullable = true)\n",
            " |-- 4/26/20: string (nullable = true)\n",
            " |-- 4/27/20: string (nullable = true)\n",
            " |-- 4/28/20: string (nullable = true)\n",
            " |-- 4/29/20: string (nullable = true)\n",
            " |-- 4/30/20: string (nullable = true)\n",
            " |-- 5/1/20: string (nullable = true)\n",
            " |-- 5/2/20: string (nullable = true)\n",
            " |-- 5/3/20: string (nullable = true)\n",
            " |-- 5/4/20: string (nullable = true)\n",
            " |-- 5/5/20: string (nullable = true)\n",
            " |-- 5/6/20: string (nullable = true)\n",
            " |-- 5/7/20: string (nullable = true)\n",
            " |-- 5/8/20: string (nullable = true)\n",
            " |-- 5/9/20: string (nullable = true)\n",
            " |-- 5/10/20: string (nullable = true)\n",
            " |-- 5/11/20: string (nullable = true)\n",
            " |-- 5/12/20: string (nullable = true)\n",
            " |-- 5/13/20: string (nullable = true)\n",
            " |-- 5/14/20: string (nullable = true)\n",
            " |-- 5/15/20: string (nullable = true)\n",
            " |-- 5/16/20: string (nullable = true)\n",
            " |-- 5/17/20: string (nullable = true)\n",
            " |-- 5/18/20: string (nullable = true)\n",
            " |-- 5/19/20: string (nullable = true)\n",
            " |-- 5/20/20: string (nullable = true)\n",
            " |-- 5/21/20: string (nullable = true)\n",
            " |-- 5/22/20: string (nullable = true)\n",
            " |-- 5/23/20: string (nullable = true)\n",
            " |-- 5/24/20: string (nullable = true)\n",
            " |-- 5/25/20: string (nullable = true)\n",
            " |-- 5/26/20: string (nullable = true)\n",
            " |-- 5/27/20: string (nullable = true)\n",
            " |-- 5/28/20: string (nullable = true)\n",
            " |-- 5/29/20: string (nullable = true)\n",
            " |-- 5/30/20: string (nullable = true)\n",
            " |-- 5/31/20: string (nullable = true)\n",
            " |-- 6/1/20: string (nullable = true)\n",
            " |-- 6/2/20: string (nullable = true)\n",
            " |-- 6/3/20: string (nullable = true)\n",
            " |-- 6/4/20: string (nullable = true)\n",
            " |-- 6/5/20: string (nullable = true)\n",
            " |-- 6/6/20: string (nullable = true)\n",
            " |-- 6/7/20: string (nullable = true)\n",
            " |-- 6/8/20: string (nullable = true)\n",
            " |-- 6/9/20: string (nullable = true)\n",
            " |-- 6/10/20: string (nullable = true)\n",
            " |-- 6/11/20: string (nullable = true)\n",
            " |-- 6/12/20: string (nullable = true)\n",
            " |-- 6/13/20: string (nullable = true)\n",
            " |-- 6/14/20: string (nullable = true)\n",
            " |-- 6/15/20: string (nullable = true)\n",
            " |-- 6/16/20: string (nullable = true)\n",
            " |-- 6/17/20: string (nullable = true)\n",
            " |-- 6/18/20: string (nullable = true)\n",
            " |-- 6/19/20: string (nullable = true)\n",
            " |-- 6/20/20: string (nullable = true)\n",
            " |-- 6/21/20: string (nullable = true)\n",
            " |-- 6/22/20: string (nullable = true)\n",
            " |-- 6/23/20: string (nullable = true)\n",
            " |-- 6/24/20: string (nullable = true)\n",
            " |-- 6/25/20: string (nullable = true)\n",
            " |-- 6/26/20: string (nullable = true)\n",
            " |-- 6/27/20: string (nullable = true)\n",
            " |-- 6/28/20: string (nullable = true)\n",
            " |-- 6/29/20: string (nullable = true)\n",
            " |-- 6/30/20: string (nullable = true)\n",
            " |-- 7/1/20: string (nullable = true)\n",
            " |-- 7/2/20: string (nullable = true)\n",
            " |-- 7/3/20: string (nullable = true)\n",
            " |-- 7/4/20: string (nullable = true)\n",
            " |-- 7/5/20: string (nullable = true)\n",
            " |-- 7/6/20: string (nullable = true)\n",
            " |-- 7/7/20: string (nullable = true)\n",
            " |-- 7/8/20: string (nullable = true)\n",
            " |-- 7/9/20: string (nullable = true)\n",
            " |-- 7/10/20: string (nullable = true)\n",
            " |-- 7/11/20: string (nullable = true)\n",
            " |-- 7/12/20: string (nullable = true)\n",
            " |-- 7/13/20: string (nullable = true)\n",
            " |-- 7/14/20: string (nullable = true)\n",
            " |-- 7/15/20: string (nullable = true)\n",
            " |-- 7/16/20: string (nullable = true)\n",
            " |-- 7/17/20: string (nullable = true)\n",
            " |-- 7/18/20: string (nullable = true)\n",
            " |-- 7/19/20: string (nullable = true)\n",
            " |-- 7/20/20: string (nullable = true)\n",
            " |-- 7/21/20: string (nullable = true)\n",
            " |-- 7/22/20: string (nullable = true)\n",
            " |-- 7/23/20: string (nullable = true)\n",
            " |-- 7/24/20: string (nullable = true)\n",
            " |-- 7/25/20: string (nullable = true)\n",
            " |-- 7/26/20: string (nullable = true)\n",
            " |-- 7/27/20: string (nullable = true)\n",
            " |-- 7/28/20: string (nullable = true)\n",
            " |-- 7/29/20: string (nullable = true)\n",
            " |-- 7/30/20: string (nullable = true)\n",
            " |-- 7/31/20: string (nullable = true)\n",
            " |-- 8/1/20: string (nullable = true)\n",
            " |-- 8/2/20: string (nullable = true)\n",
            " |-- 8/3/20: string (nullable = true)\n",
            " |-- 8/4/20: string (nullable = true)\n",
            " |-- 8/5/20: string (nullable = true)\n",
            " |-- 8/6/20: string (nullable = true)\n",
            " |-- 8/7/20: string (nullable = true)\n",
            " |-- 8/8/20: string (nullable = true)\n",
            " |-- 8/9/20: string (nullable = true)\n",
            " |-- 8/10/20: string (nullable = true)\n",
            " |-- 8/11/20: string (nullable = true)\n",
            " |-- 8/12/20: string (nullable = true)\n",
            " |-- 8/13/20: string (nullable = true)\n",
            " |-- 8/14/20: string (nullable = true)\n",
            " |-- 8/15/20: string (nullable = true)\n",
            " |-- 8/16/20: string (nullable = true)\n",
            " |-- 8/17/20: string (nullable = true)\n",
            " |-- 8/18/20: string (nullable = true)\n",
            " |-- 8/19/20: string (nullable = true)\n",
            " |-- 8/20/20: string (nullable = true)\n",
            " |-- 8/21/20: string (nullable = true)\n",
            " |-- 8/22/20: string (nullable = true)\n",
            " |-- 8/23/20: string (nullable = true)\n",
            " |-- 8/24/20: string (nullable = true)\n",
            " |-- 8/25/20: string (nullable = true)\n",
            " |-- 8/26/20: string (nullable = true)\n",
            " |-- 8/27/20: string (nullable = true)\n",
            " |-- 8/28/20: string (nullable = true)\n",
            " |-- 8/29/20: string (nullable = true)\n",
            " |-- 8/30/20: string (nullable = true)\n",
            " |-- 8/31/20: string (nullable = true)\n",
            " |-- 9/1/20: string (nullable = true)\n",
            " |-- 9/2/20: string (nullable = true)\n",
            " |-- 9/3/20: string (nullable = true)\n",
            " |-- 9/4/20: string (nullable = true)\n",
            " |-- 9/5/20: string (nullable = true)\n",
            " |-- 9/6/20: string (nullable = true)\n",
            " |-- 9/7/20: string (nullable = true)\n",
            " |-- 9/8/20: string (nullable = true)\n",
            " |-- 9/9/20: string (nullable = true)\n",
            " |-- 9/10/20: string (nullable = true)\n",
            " |-- 9/11/20: string (nullable = true)\n",
            " |-- 9/12/20: string (nullable = true)\n",
            " |-- 9/13/20: string (nullable = true)\n",
            " |-- 9/14/20: string (nullable = true)\n",
            " |-- 9/15/20: string (nullable = true)\n",
            " |-- 9/16/20: string (nullable = true)\n",
            " |-- 9/17/20: string (nullable = true)\n",
            " |-- 9/18/20: string (nullable = true)\n",
            " |-- 9/19/20: string (nullable = true)\n",
            " |-- 9/20/20: string (nullable = true)\n",
            " |-- 9/21/20: string (nullable = true)\n",
            " |-- 9/22/20: string (nullable = true)\n",
            " |-- 9/23/20: string (nullable = true)\n",
            " |-- 9/24/20: string (nullable = true)\n",
            " |-- 9/25/20: string (nullable = true)\n",
            " |-- 9/26/20: string (nullable = true)\n",
            " |-- 9/27/20: string (nullable = true)\n",
            " |-- 9/28/20: string (nullable = true)\n",
            " |-- 9/29/20: string (nullable = true)\n",
            " |-- 9/30/20: string (nullable = true)\n",
            " |-- 10/1/20: string (nullable = true)\n",
            " |-- 10/2/20: string (nullable = true)\n",
            " |-- 10/3/20: string (nullable = true)\n",
            " |-- 10/4/20: string (nullable = true)\n",
            " |-- 10/5/20: string (nullable = true)\n",
            " |-- 10/6/20: string (nullable = true)\n",
            " |-- 10/7/20: string (nullable = true)\n",
            " |-- 10/8/20: string (nullable = true)\n",
            " |-- 10/9/20: string (nullable = true)\n",
            " |-- 10/10/20: string (nullable = true)\n",
            " |-- 10/11/20: string (nullable = true)\n",
            " |-- 10/12/20: string (nullable = true)\n",
            " |-- 10/13/20: string (nullable = true)\n",
            " |-- 10/14/20: string (nullable = true)\n",
            " |-- 10/15/20: string (nullable = true)\n",
            " |-- 10/16/20: string (nullable = true)\n",
            " |-- 10/17/20: string (nullable = true)\n",
            " |-- 10/18/20: string (nullable = true)\n",
            " |-- 10/19/20: string (nullable = true)\n",
            " |-- 10/20/20: string (nullable = true)\n",
            " |-- 10/21/20: string (nullable = true)\n",
            " |-- 10/22/20: string (nullable = true)\n",
            " |-- 10/23/20: string (nullable = true)\n",
            " |-- 10/24/20: string (nullable = true)\n",
            " |-- 10/25/20: string (nullable = true)\n",
            " |-- 10/26/20: string (nullable = true)\n",
            " |-- 10/27/20: string (nullable = true)\n",
            " |-- 10/28/20: string (nullable = true)\n",
            " |-- 10/29/20: string (nullable = true)\n",
            " |-- 10/30/20: string (nullable = true)\n",
            " |-- 10/31/20: string (nullable = true)\n",
            " |-- 11/1/20: string (nullable = true)\n",
            " |-- 11/2/20: string (nullable = true)\n",
            " |-- 11/3/20: string (nullable = true)\n",
            " |-- 11/4/20: string (nullable = true)\n",
            " |-- 11/5/20: string (nullable = true)\n",
            " |-- 11/6/20: string (nullable = true)\n",
            " |-- 11/7/20: string (nullable = true)\n",
            " |-- 11/8/20: string (nullable = true)\n",
            " |-- 11/9/20: string (nullable = true)\n",
            " |-- 11/10/20: string (nullable = true)\n",
            " |-- 11/11/20: string (nullable = true)\n",
            " |-- 11/12/20: string (nullable = true)\n",
            " |-- 11/13/20: string (nullable = true)\n",
            " |-- 11/14/20: string (nullable = true)\n",
            " |-- 11/15/20: string (nullable = true)\n",
            " |-- 11/16/20: string (nullable = true)\n",
            " |-- 11/17/20: string (nullable = true)\n",
            " |-- 11/18/20: string (nullable = true)\n",
            " |-- 11/19/20: string (nullable = true)\n",
            " |-- 11/20/20: string (nullable = true)\n",
            " |-- 11/21/20: string (nullable = true)\n",
            " |-- 11/22/20: string (nullable = true)\n",
            " |-- 11/23/20: string (nullable = true)\n",
            " |-- 11/24/20: string (nullable = true)\n",
            " |-- 11/25/20: string (nullable = true)\n",
            " |-- 11/26/20: string (nullable = true)\n",
            " |-- 11/27/20: string (nullable = true)\n",
            " |-- 11/28/20: string (nullable = true)\n",
            " |-- 11/29/20: string (nullable = true)\n",
            " |-- 11/30/20: string (nullable = true)\n",
            " |-- 12/1/20: string (nullable = true)\n",
            " |-- 12/2/20: string (nullable = true)\n",
            " |-- 12/3/20: string (nullable = true)\n",
            " |-- 12/4/20: string (nullable = true)\n",
            " |-- 12/5/20: string (nullable = true)\n",
            " |-- 12/6/20: string (nullable = true)\n",
            " |-- 12/7/20: string (nullable = true)\n",
            " |-- 12/8/20: string (nullable = true)\n",
            " |-- 12/9/20: string (nullable = true)\n",
            " |-- 12/10/20: string (nullable = true)\n",
            " |-- 12/11/20: string (nullable = true)\n",
            " |-- 12/12/20: string (nullable = true)\n",
            " |-- 12/13/20: string (nullable = true)\n",
            " |-- 12/14/20: string (nullable = true)\n",
            " |-- 12/15/20: string (nullable = true)\n",
            " |-- 12/16/20: string (nullable = true)\n",
            " |-- 12/17/20: string (nullable = true)\n",
            " |-- 12/18/20: string (nullable = true)\n",
            " |-- 12/19/20: string (nullable = true)\n",
            " |-- 12/20/20: string (nullable = true)\n",
            " |-- 12/21/20: string (nullable = true)\n",
            " |-- 12/22/20: string (nullable = true)\n",
            " |-- 12/23/20: string (nullable = true)\n",
            " |-- 12/24/20: string (nullable = true)\n",
            " |-- 12/25/20: string (nullable = true)\n",
            " |-- 12/26/20: string (nullable = true)\n",
            " |-- 12/27/20: string (nullable = true)\n",
            " |-- 12/28/20: string (nullable = true)\n",
            " |-- 12/29/20: string (nullable = true)\n",
            " |-- 12/30/20: string (nullable = true)\n",
            " |-- 12/31/20: string (nullable = true)\n",
            " |-- 1/1/21: string (nullable = true)\n",
            " |-- 1/2/21: string (nullable = true)\n",
            " |-- 1/3/21: string (nullable = true)\n",
            " |-- 1/4/21: string (nullable = true)\n",
            " |-- 1/5/21: string (nullable = true)\n",
            " |-- 1/6/21: string (nullable = true)\n",
            " |-- 1/7/21: string (nullable = true)\n",
            " |-- 1/8/21: string (nullable = true)\n",
            " |-- 1/9/21: string (nullable = true)\n",
            " |-- 1/10/21: string (nullable = true)\n",
            " |-- 1/11/21: string (nullable = true)\n",
            " |-- 1/12/21: string (nullable = true)\n",
            " |-- 1/13/21: string (nullable = true)\n",
            " |-- 1/14/21: string (nullable = true)\n",
            " |-- 1/15/21: string (nullable = true)\n",
            " |-- 1/16/21: string (nullable = true)\n",
            " |-- 1/17/21: string (nullable = true)\n",
            " |-- 1/18/21: string (nullable = true)\n",
            " |-- 1/19/21: string (nullable = true)\n",
            " |-- 1/20/21: string (nullable = true)\n",
            " |-- 1/21/21: string (nullable = true)\n",
            " |-- 1/22/21: string (nullable = true)\n",
            " |-- 1/23/21: string (nullable = true)\n",
            " |-- 1/24/21: string (nullable = true)\n",
            " |-- 1/25/21: string (nullable = true)\n",
            " |-- 1/26/21: string (nullable = true)\n",
            " |-- 1/27/21: string (nullable = true)\n",
            " |-- 1/28/21: string (nullable = true)\n",
            " |-- 1/29/21: string (nullable = true)\n",
            " |-- 1/30/21: string (nullable = true)\n",
            " |-- 1/31/21: string (nullable = true)\n",
            " |-- 2/1/21: string (nullable = true)\n",
            " |-- 2/2/21: string (nullable = true)\n",
            " |-- 2/3/21: string (nullable = true)\n",
            " |-- 2/4/21: string (nullable = true)\n",
            " |-- 2/5/21: string (nullable = true)\n",
            " |-- 2/6/21: string (nullable = true)\n",
            " |-- 2/7/21: string (nullable = true)\n",
            " |-- 2/8/21: string (nullable = true)\n",
            " |-- 2/9/21: string (nullable = true)\n",
            " |-- 2/10/21: string (nullable = true)\n",
            " |-- 2/11/21: string (nullable = true)\n",
            " |-- 2/12/21: string (nullable = true)\n",
            " |-- 2/13/21: string (nullable = true)\n",
            " |-- 2/14/21: string (nullable = true)\n",
            " |-- 2/15/21: string (nullable = true)\n",
            " |-- 2/16/21: string (nullable = true)\n",
            " |-- 2/17/21: string (nullable = true)\n",
            " |-- 2/18/21: string (nullable = true)\n",
            " |-- 2/19/21: string (nullable = true)\n",
            " |-- 2/20/21: string (nullable = true)\n",
            " |-- 2/21/21: string (nullable = true)\n",
            " |-- 2/22/21: string (nullable = true)\n",
            " |-- 2/23/21: string (nullable = true)\n",
            " |-- 2/24/21: string (nullable = true)\n",
            " |-- 2/25/21: string (nullable = true)\n",
            " |-- 2/26/21: string (nullable = true)\n",
            " |-- 2/27/21: string (nullable = true)\n",
            " |-- 2/28/21: string (nullable = true)\n",
            " |-- 3/1/21: string (nullable = true)\n",
            " |-- 3/2/21: string (nullable = true)\n",
            " |-- 3/3/21: string (nullable = true)\n",
            " |-- 3/4/21: string (nullable = true)\n",
            " |-- 3/5/21: string (nullable = true)\n",
            " |-- 3/6/21: string (nullable = true)\n",
            " |-- 3/7/21: string (nullable = true)\n",
            " |-- 3/8/21: string (nullable = true)\n",
            " |-- 3/9/21: string (nullable = true)\n",
            " |-- 3/10/21: string (nullable = true)\n",
            " |-- 3/11/21: string (nullable = true)\n",
            " |-- 3/12/21: string (nullable = true)\n",
            " |-- 3/13/21: string (nullable = true)\n",
            " |-- 3/14/21: string (nullable = true)\n",
            " |-- 3/15/21: string (nullable = true)\n",
            " |-- 3/16/21: string (nullable = true)\n",
            " |-- 3/17/21: string (nullable = true)\n",
            " |-- 3/18/21: string (nullable = true)\n",
            " |-- 3/19/21: string (nullable = true)\n",
            " |-- 3/20/21: string (nullable = true)\n",
            " |-- 3/21/21: string (nullable = true)\n",
            " |-- 3/22/21: string (nullable = true)\n",
            " |-- 3/23/21: string (nullable = true)\n",
            " |-- 3/24/21: string (nullable = true)\n",
            " |-- 3/25/21: string (nullable = true)\n",
            " |-- 3/26/21: string (nullable = true)\n",
            " |-- 3/27/21: string (nullable = true)\n",
            " |-- 3/28/21: string (nullable = true)\n",
            " |-- 3/29/21: string (nullable = true)\n",
            " |-- 3/30/21: string (nullable = true)\n",
            " |-- 3/31/21: string (nullable = true)\n",
            " |-- 4/1/21: string (nullable = true)\n",
            " |-- 4/2/21: string (nullable = true)\n",
            " |-- 4/3/21: string (nullable = true)\n",
            " |-- 4/4/21: string (nullable = true)\n",
            " |-- 4/5/21: string (nullable = true)\n",
            " |-- 4/6/21: string (nullable = true)\n",
            " |-- 4/7/21: string (nullable = true)\n",
            " |-- 4/8/21: string (nullable = true)\n",
            " |-- 4/9/21: string (nullable = true)\n",
            " |-- 4/10/21: string (nullable = true)\n",
            " |-- 4/11/21: string (nullable = true)\n",
            " |-- 4/12/21: string (nullable = true)\n",
            " |-- 4/13/21: string (nullable = true)\n",
            " |-- 4/14/21: string (nullable = true)\n",
            " |-- 4/15/21: string (nullable = true)\n",
            " |-- 4/16/21: string (nullable = true)\n",
            " |-- 4/17/21: string (nullable = true)\n",
            " |-- 4/18/21: string (nullable = true)\n",
            " |-- 4/19/21: string (nullable = true)\n",
            " |-- 4/20/21: string (nullable = true)\n",
            " |-- 4/21/21: string (nullable = true)\n",
            " |-- 4/22/21: string (nullable = true)\n",
            " |-- 4/23/21: string (nullable = true)\n",
            " |-- 4/24/21: string (nullable = true)\n",
            " |-- 4/25/21: string (nullable = true)\n",
            " |-- 4/26/21: string (nullable = true)\n",
            " |-- 4/27/21: string (nullable = true)\n",
            " |-- 4/28/21: string (nullable = true)\n",
            " |-- 4/29/21: string (nullable = true)\n",
            " |-- 4/30/21: string (nullable = true)\n",
            " |-- 5/1/21: string (nullable = true)\n",
            " |-- 5/2/21: string (nullable = true)\n",
            " |-- 5/3/21: string (nullable = true)\n",
            " |-- 5/4/21: string (nullable = true)\n",
            " |-- 5/5/21: string (nullable = true)\n",
            " |-- 5/6/21: string (nullable = true)\n",
            " |-- 5/7/21: string (nullable = true)\n",
            " |-- 5/8/21: string (nullable = true)\n",
            " |-- 5/9/21: string (nullable = true)\n",
            " |-- 5/10/21: string (nullable = true)\n",
            " |-- 5/11/21: string (nullable = true)\n",
            " |-- 5/12/21: string (nullable = true)\n",
            " |-- 5/13/21: string (nullable = true)\n",
            " |-- 5/14/21: string (nullable = true)\n",
            " |-- 5/15/21: string (nullable = true)\n",
            " |-- 5/16/21: string (nullable = true)\n",
            " |-- 5/17/21: string (nullable = true)\n",
            " |-- 5/18/21: string (nullable = true)\n",
            "\n"
          ]
        }
      ]
    },
    {
      "cell_type": "markdown",
      "metadata": {
        "id": "WV45mAMfrmxA"
      },
      "source": [
        "### Your Task"
      ]
    },
    {
      "cell_type": "markdown",
      "metadata": {
        "id": "iLLbq024rr9l"
      },
      "source": [
        "We are aware of the stress we are all experiencing because of the still-ongoing pandemic and the fact that many of you have projects and exams due this week. As such, we decided to conclude our series of Colabs with a **lightweight task** -- given everything you have learned about Spark during the quarter, this Colab should take you just a few minutes to complete."
      ]
    },
    {
      "cell_type": "markdown",
      "metadata": {
        "id": "4wYiCEv_zhVf"
      },
      "source": [
        "Consider the entries for May 1, 2021, in the timeseries, and compute:\n",
        "\n",
        "\n",
        "*   number of confirmed COVID-19 cases across the globe\n",
        "*   number of deaths due to COVID-19 (across the globe)\n",
        "*   number of recovered patients across the globe\n",
        "\n"
      ]
    },
    {
      "cell_type": "code",
      "metadata": {
        "id": "w-Hoy-9Xzf8r",
        "outputId": "dbd908d6-10f2-4673-c385-e729c2b49d50",
        "colab": {
          "base_uri": "https://localhost:8080/"
        }
      },
      "source": [
        "# YOUR CODE HERE\n",
        "c = confirmed.select(sum(\"5/1/21\")).collect()[0][0]\n",
        "d = deaths.select(sum(\"5/1/21\")).collect()[0][0]\n",
        "r = recovered.select(sum(\"5/1/21\")).collect()[0][0]\n",
        "c, d, r"
      ],
      "execution_count": 8,
      "outputs": [
        {
          "output_type": "execute_result",
          "data": {
            "text/plain": [
              "(152196159.0, 3192930.0, 88919401.0)"
            ]
          },
          "metadata": {},
          "execution_count": 8
        }
      ]
    },
    {
      "cell_type": "markdown",
      "metadata": {
        "id": "yahkAHoS0HuU"
      },
      "source": [
        "Consider the data points for March 1, 2020, and March 1, 2021, and filter out the geographical locations where less than 50 cases have been confirmed.\n",
        "For the areas still taken into consideration after the filtering step, compute the ratio between number of deaths and number of confirmed cases."
      ]
    },
    {
      "cell_type": "code",
      "metadata": {
        "id": "8FwzsH4l1VCZ",
        "outputId": "0580d517-7e52-4da3-9cf9-572254436702",
        "colab": {
          "base_uri": "https://localhost:8080/"
        }
      },
      "source": [
        "# YOUR CODE HERE\n",
        "#confirmed.show()\n",
        "selected = confirmed.select('Province/State', 'Country/Region', 'Lat', 'Long', '3/1/20','3/1/21')\n",
        "selected = selected.where(col('3/1/21') >= 50)\n",
        "\n",
        "dt = deaths.select('Lat', 'Long', '3/1/20','3/1/21')\n",
        "dt = dt.withColumnRenamed(\"3/1/20\", \"A\")\\\n",
        "       .withColumnRenamed(\"3/1/21\", \"B\")\n",
        "selected = selected.join(dt, (dt.Long == selected.Long) & (dt.Lat == selected.Lat), 'inner')\n",
        "selected.show()\n"
      ],
      "execution_count": 9,
      "outputs": [
        {
          "output_type": "stream",
          "name": "stdout",
          "text": [
            "+--------------------+-------------------+---------+----------+------+-------+---------+----------+---+-----+\n",
            "|      Province/State|     Country/Region|      Lat|      Long|3/1/20| 3/1/21|      Lat|      Long|  A|    B|\n",
            "+--------------------+-------------------+---------+----------+------+-------+---------+----------+---+-----+\n",
            "|                null|        Afghanistan| 33.93911| 67.709953|     1|  55733| 33.93911| 67.709953|  0| 2444|\n",
            "|                null|            Albania|  41.1533|   20.1683|     0| 107931|  41.1533|   20.1683|  0| 1816|\n",
            "|                null|            Algeria|  28.0339|    1.6596|     1| 113255|  28.0339|    1.6596|  0| 2987|\n",
            "|                null|            Andorra|  42.5063|    1.5218|     0|  10889|  42.5063|    1.5218|  0|  110|\n",
            "|                null|             Angola| -11.2027|   17.8739|     0|  20854| -11.2027|   17.8739|  0|  508|\n",
            "|                null|Antigua and Barbuda|  17.0608|  -61.7964|     0|    769|  17.0608|  -61.7964|  0|   14|\n",
            "|                null|          Argentina| -38.4161|  -63.6167|     0|2112023| -38.4161|  -63.6167|  0|52077|\n",
            "|                null|            Armenia|  40.0691|   45.0382|     1| 172216|  40.0691|   45.0382|  0| 3195|\n",
            "|Australian Capita...|          Australia| -35.4735|  149.0124|     0|    118| -35.4735|  149.0124|  0|    3|\n",
            "|     New South Wales|          Australia| -33.8688|  151.2093|     6|   5183| -33.8688|  151.2093|  0|   54|\n",
            "|  Northern Territory|          Australia| -12.4634|  130.8456|     0|    105| -12.4634|  130.8456|  0|    0|\n",
            "|          Queensland|          Australia| -27.4698|  153.0251|     9|   1335| -27.4698|  153.0251|  0|    6|\n",
            "|     South Australia|          Australia| -34.9285|  138.6007|     3|    617| -34.9285|  138.6007|  0|    4|\n",
            "|            Tasmania|          Australia| -42.8821|  147.3272|     0|    234| -42.8821|  147.3272|  0|   13|\n",
            "|            Victoria|          Australia| -37.8136|  144.9631|     7|  20481| -37.8136|  144.9631|  0|  820|\n",
            "|   Western Australia|          Australia| -31.9505|  115.8605|     2|    913| -31.9505|  115.8605|  1|    9|\n",
            "|                null|            Austria|  47.5162|   14.5501|    14| 460849|  47.5162|   14.5501|  0| 8574|\n",
            "|                null|         Azerbaijan|  40.1431|   47.5769|     3| 234662|  40.1431|   47.5769|  0| 3223|\n",
            "|                null|            Bahamas|25.025885|-78.035889|     0|   8519|25.025885|-78.035889|  0|  179|\n",
            "|                null|            Bahrain|  26.0275|     50.55|    47| 123039|  26.0275|     50.55|  0|  452|\n",
            "+--------------------+-------------------+---------+----------+------+-------+---------+----------+---+-----+\n",
            "only showing top 20 rows\n",
            "\n"
          ]
        }
      ]
    },
    {
      "cell_type": "code",
      "source": [
        "selected = selected.withColumn(\"Ratio\",selected[5]/selected[9])\n",
        "selected.show()"
      ],
      "metadata": {
        "id": "FGcaoZtLds57",
        "outputId": "6450eacc-f8d3-49a6-8855-14dea126e942",
        "colab": {
          "base_uri": "https://localhost:8080/"
        }
      },
      "execution_count": 10,
      "outputs": [
        {
          "output_type": "stream",
          "name": "stdout",
          "text": [
            "+--------------------+-------------------+---------+----------+------+-------+---------+----------+---+-----+------------------+\n",
            "|      Province/State|     Country/Region|      Lat|      Long|3/1/20| 3/1/21|      Lat|      Long|  A|    B|             Ratio|\n",
            "+--------------------+-------------------+---------+----------+------+-------+---------+----------+---+-----+------------------+\n",
            "|                null|        Afghanistan| 33.93911| 67.709953|     1|  55733| 33.93911| 67.709953|  0| 2444|22.804009819967266|\n",
            "|                null|            Albania|  41.1533|   20.1683|     0| 107931|  41.1533|   20.1683|  0| 1816|59.433370044052865|\n",
            "|                null|            Algeria|  28.0339|    1.6596|     1| 113255|  28.0339|    1.6596|  0| 2987| 37.91596919986608|\n",
            "|                null|            Andorra|  42.5063|    1.5218|     0|  10889|  42.5063|    1.5218|  0|  110| 98.99090909090908|\n",
            "|                null|             Angola| -11.2027|   17.8739|     0|  20854| -11.2027|   17.8739|  0|  508| 41.05118110236221|\n",
            "|                null|Antigua and Barbuda|  17.0608|  -61.7964|     0|    769|  17.0608|  -61.7964|  0|   14| 54.92857142857143|\n",
            "|                null|          Argentina| -38.4161|  -63.6167|     0|2112023| -38.4161|  -63.6167|  0|52077| 40.55577318201893|\n",
            "|                null|            Armenia|  40.0691|   45.0382|     1| 172216|  40.0691|   45.0382|  0| 3195| 53.90172143974961|\n",
            "|Australian Capita...|          Australia| -35.4735|  149.0124|     0|    118| -35.4735|  149.0124|  0|    3|39.333333333333336|\n",
            "|     New South Wales|          Australia| -33.8688|  151.2093|     6|   5183| -33.8688|  151.2093|  0|   54| 95.98148148148148|\n",
            "|  Northern Territory|          Australia| -12.4634|  130.8456|     0|    105| -12.4634|  130.8456|  0|    0|              null|\n",
            "|          Queensland|          Australia| -27.4698|  153.0251|     9|   1335| -27.4698|  153.0251|  0|    6|             222.5|\n",
            "|     South Australia|          Australia| -34.9285|  138.6007|     3|    617| -34.9285|  138.6007|  0|    4|            154.25|\n",
            "|            Tasmania|          Australia| -42.8821|  147.3272|     0|    234| -42.8821|  147.3272|  0|   13|              18.0|\n",
            "|            Victoria|          Australia| -37.8136|  144.9631|     7|  20481| -37.8136|  144.9631|  0|  820|24.976829268292683|\n",
            "|   Western Australia|          Australia| -31.9505|  115.8605|     2|    913| -31.9505|  115.8605|  1|    9|101.44444444444444|\n",
            "|                null|            Austria|  47.5162|   14.5501|    14| 460849|  47.5162|   14.5501|  0| 8574| 53.74959178912993|\n",
            "|                null|         Azerbaijan|  40.1431|   47.5769|     3| 234662|  40.1431|   47.5769|  0| 3223| 72.80856345020167|\n",
            "|                null|            Bahamas|25.025885|-78.035889|     0|   8519|25.025885|-78.035889|  0|  179| 47.59217877094972|\n",
            "|                null|            Bahrain|  26.0275|     50.55|    47| 123039|  26.0275|     50.55|  0|  452|272.21017699115043|\n",
            "+--------------------+-------------------+---------+----------+------+-------+---------+----------+---+-----+------------------+\n",
            "only showing top 20 rows\n",
            "\n"
          ]
        }
      ]
    },
    {
      "cell_type": "markdown",
      "metadata": {
        "id": "MLBtZyFqPKkI"
      },
      "source": [
        "Consider the data points for March 1, 2021, and May 1, 2021, in the timeseries, and filter out the geographical locations where less than 50 deaths have been confirmed (as of March 1, 2021).\n",
        "For the areas still taken into consideration after the filtering step, compute the percent increase in cumulative deaths between the two dates."
      ]
    },
    {
      "cell_type": "code",
      "metadata": {
        "id": "FUWisUyMPI9A",
        "outputId": "772848aa-3e77-44f7-c154-e8e9b48dbf0a",
        "colab": {
          "base_uri": "https://localhost:8080/"
        }
      },
      "source": [
        "# YOUR CODE HERE\n",
        "selected = confirmed.select('Province/State', 'Country/Region', 'Lat', 'Long', '3/1/21','5/1/21')\n",
        "selected = selected.where(col('3/1/21') >= 50)\n",
        "\n",
        "dt = deaths.select('Lat', 'Long', '3/1/21','5/1/21')\n",
        "dt = dt.withColumnRenamed(\"3/1/21\", \"A\")\\\n",
        "       .withColumnRenamed(\"5/1/21\", \"B\")\n",
        "selected = selected.join(dt, (dt.Long == selected.Long) & (dt.Lat == selected.Lat), 'inner')\n",
        "selected.show()\n"
      ],
      "execution_count": 11,
      "outputs": [
        {
          "output_type": "stream",
          "name": "stdout",
          "text": [
            "+--------------------+-------------------+---------+----------+-------+-------+---------+----------+-----+-----+\n",
            "|      Province/State|     Country/Region|      Lat|      Long| 3/1/21| 5/1/21|      Lat|      Long|    A|    B|\n",
            "+--------------------+-------------------+---------+----------+-------+-------+---------+----------+-----+-----+\n",
            "|                null|        Afghanistan| 33.93911| 67.709953|  55733|  59939| 33.93911| 67.709953| 2444| 2631|\n",
            "|                null|            Albania|  41.1533|   20.1683| 107931| 131185|  41.1533|   20.1683| 1816| 2396|\n",
            "|                null|            Algeria|  28.0339|    1.6596| 113255| 122311|  28.0339|    1.6596| 2987| 3261|\n",
            "|                null|            Andorra|  42.5063|    1.5218|  10889|  13232|  42.5063|    1.5218|  110|  125|\n",
            "|                null|             Angola| -11.2027|   17.8739|  20854|  26815| -11.2027|   17.8739|  508|  600|\n",
            "|                null|Antigua and Barbuda|  17.0608|  -61.7964|    769|   1232|  17.0608|  -61.7964|   14|   32|\n",
            "|                null|          Argentina| -38.4161|  -63.6167|2112023|2993865| -38.4161|  -63.6167|52077|64096|\n",
            "|                null|            Armenia|  40.0691|   45.0382| 172216| 216596|  40.0691|   45.0382| 3195| 4128|\n",
            "|Australian Capita...|          Australia| -35.4735|  149.0124|    118|    124| -35.4735|  149.0124|    3|    3|\n",
            "|     New South Wales|          Australia| -33.8688|  151.2093|   5183|   5484| -33.8688|  151.2093|   54|   54|\n",
            "|  Northern Territory|          Australia| -12.4634|  130.8456|    105|    166| -12.4634|  130.8456|    0|    0|\n",
            "|          Queensland|          Australia| -27.4698|  153.0251|   1335|   1564| -27.4698|  153.0251|    6|    7|\n",
            "|     South Australia|          Australia| -34.9285|  138.6007|    617|    725| -34.9285|  138.6007|    4|    4|\n",
            "|            Tasmania|          Australia| -42.8821|  147.3272|    234|    234| -42.8821|  147.3272|   13|   13|\n",
            "|            Victoria|          Australia| -37.8136|  144.9631|  20481|  20522| -37.8136|  144.9631|  820|  820|\n",
            "|   Western Australia|          Australia| -31.9505|  115.8605|    913|   1005| -31.9505|  115.8605|    9|    9|\n",
            "|                null|            Austria|  47.5162|   14.5501| 460849| 620485|  47.5162|   14.5501| 8574|10233|\n",
            "|                null|         Azerbaijan|  40.1431|   47.5769| 234662| 320322|  40.1431|   47.5769| 3223| 4538|\n",
            "|                null|            Bahamas|25.025885|-78.035889|   8519|  10453|25.025885|-78.035889|  179|  199|\n",
            "|                null|            Bahrain|  26.0275|     50.55| 123039| 177997|  26.0275|     50.55|  452|  648|\n",
            "+--------------------+-------------------+---------+----------+-------+-------+---------+----------+-----+-----+\n",
            "only showing top 20 rows\n",
            "\n"
          ]
        }
      ]
    },
    {
      "cell_type": "code",
      "source": [
        "selected = selected.withColumn(\"Increase\",(selected.B - selected.A)/selected.A)\n",
        "selected.select('A','B','Increase').show()"
      ],
      "metadata": {
        "id": "EYFrIXsVetXC",
        "outputId": "a081c478-62dd-4262-9032-07e64c8ce5ee",
        "colab": {
          "base_uri": "https://localhost:8080/"
        }
      },
      "execution_count": 12,
      "outputs": [
        {
          "output_type": "stream",
          "name": "stdout",
          "text": [
            "+-----+-----+-------------------+\n",
            "|    A|    B|           Increase|\n",
            "+-----+-----+-------------------+\n",
            "| 2444| 2631| 0.0765139116202946|\n",
            "| 1816| 2396|0.31938325991189426|\n",
            "| 2987| 3261|0.09173083361232005|\n",
            "|  110|  125|0.13636363636363635|\n",
            "|  508|  600|0.18110236220472442|\n",
            "|   14|   32| 1.2857142857142858|\n",
            "|52077|64096|0.23079286441231253|\n",
            "| 3195| 4128|  0.292018779342723|\n",
            "|    3|    3|                0.0|\n",
            "|   54|   54|                0.0|\n",
            "|    0|    0|               null|\n",
            "|    6|    7|0.16666666666666666|\n",
            "|    4|    4|                0.0|\n",
            "|   13|   13|                0.0|\n",
            "|  820|  820|                0.0|\n",
            "|    9|    9|                0.0|\n",
            "| 8574|10233|0.19349195241427572|\n",
            "| 3223| 4538| 0.4080049643189575|\n",
            "|  179|  199|0.11173184357541899|\n",
            "|  452|  648| 0.4336283185840708|\n",
            "+-----+-----+-------------------+\n",
            "only showing top 20 rows\n",
            "\n"
          ]
        }
      ]
    },
    {
      "cell_type": "markdown",
      "metadata": {
        "id": "SIrXJyVNP2AI"
      },
      "source": [
        "Once you have working code for each cell above, **head over to Gradescope, read the questions carefully, and submit your solution for this Colab**!"
      ]
    }
  ]
}